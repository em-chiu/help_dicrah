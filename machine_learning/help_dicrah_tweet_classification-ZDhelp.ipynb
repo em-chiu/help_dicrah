{
 "cells": [
  {
   "cell_type": "markdown",
   "metadata": {},
   "source": [
    "# Tweet classifier"
   ]
  },
  {
   "cell_type": "code",
   "execution_count": 1,
   "metadata": {},
   "outputs": [],
   "source": [
    "# imports needed\n",
    "import matplotlib.pyplot as plt\n",
    "%matplotlib inline\n",
    "import gensim \n",
    "import pandas as pd\n",
    "import numpy as np\n",
    "import random\n",
    "import re\n",
    "import nltk\n",
    "from nltk.tokenize import WordPunctTokenizer\n",
    "from nltk.tokenize.regexp import RegexpTokenizer\n",
    "from bs4 import BeautifulSoup\n",
    "from  nltk.stem.snowball import FrenchStemmer, EnglishStemmer\n",
    "from sklearn.feature_extraction.text import TfidfVectorizer\n",
    "from collections import defaultdict\n",
    "import matplotlib.pyplot as plt\n",
    "import seaborn as sns\n",
    "#import pickle\n",
    "import dill as pickle\n",
    "import unidecode\n",
    "import sys\n",
    "from help_dicrah_functions import *\n",
    "\n",
    "\n",
    "\n",
    "import warnings\n",
    "warnings.filterwarnings('ignore')\n",
    "\n",
    "from IPython.core.interactiveshell import InteractiveShell\n",
    "InteractiveShell.ast_node_interactivity = \"all\"\n",
    "\n",
    "# ML Tools\n",
    "from sklearn import preprocessing, linear_model, svm, model_selection, ensemble\n",
    "from sklearn.model_selection import train_test_split, StratifiedKFold, GridSearchCV\n",
    "from sklearn.feature_selection import SelectFromModel\n",
    "from sklearn.pipeline import Pipeline\n",
    "from sklearn.linear_model import LogisticRegression\n",
    "from sklearn.metrics import classification_report, f1_score, recall_score, make_scorer\n",
    "\n",
    "import time\n",
    "current_milli_time = lambda: int(round(time.time() * 1000))\n",
    "\n",
    "import os\n",
    "data_dir = '../data/'\n",
    "models_dir = '/Volumes/MIchi Hard /models/' #'../models/'"
   ]
  },
  {
   "cell_type": "markdown",
   "metadata": {},
   "source": [
    "Set the following global variables to choose the type of processing and set output file names"
   ]
  },
  {
   "cell_type": "code",
   "execution_count": 2,
   "metadata": {},
   "outputs": [],
   "source": [
    "stem = True\n",
    "remove_sw = True\n",
    "\n",
    "if stem:\n",
    "    stem_str = '_with_stem'\n",
    "else:\n",
    "    stem_str = '_no_stem'\n",
    "\n",
    "    \n",
    "if remove_sw:\n",
    "    sw_str = '_sw_removed'\n",
    "else:\n",
    "    sw_str = '_no_sw_removed'\n"
   ]
  },
  {
   "cell_type": "markdown",
   "metadata": {},
   "source": [
    "# Pre-process the sample to train w2v vectorizer\n"
   ]
  },
  {
   "cell_type": "markdown",
   "metadata": {},
   "source": [
    "#### Estimate time to clean the full sample (don't run, just for info)"
   ]
  },
  {
   "cell_type": "code",
   "execution_count": 14,
   "metadata": {},
   "outputs": [
    {
     "data": {
      "text/html": [
       "<div>\n",
       "<style scoped>\n",
       "    .dataframe tbody tr th:only-of-type {\n",
       "        vertical-align: middle;\n",
       "    }\n",
       "\n",
       "    .dataframe tbody tr th {\n",
       "        vertical-align: top;\n",
       "    }\n",
       "\n",
       "    .dataframe thead th {\n",
       "        text-align: right;\n",
       "    }\n",
       "</style>\n",
       "<table border=\"1\" class=\"dataframe\">\n",
       "  <thead>\n",
       "    <tr style=\"text-align: right;\">\n",
       "      <th></th>\n",
       "      <th>Unnamed: 0</th>\n",
       "      <th>Datetime</th>\n",
       "      <th>id_tweet</th>\n",
       "      <th>tweet</th>\n",
       "    </tr>\n",
       "  </thead>\n",
       "  <tbody>\n",
       "    <tr>\n",
       "      <th>0</th>\n",
       "      <td>0</td>\n",
       "      <td>2020-04-28 08:45:41</td>\n",
       "      <td>1.255056e+18</td>\n",
       "      <td>Heureusement que le côté Compassion et Pratiqu...</td>\n",
       "    </tr>\n",
       "    <tr>\n",
       "      <th>1</th>\n",
       "      <td>1</td>\n",
       "      <td>2020-05-04 06:18:22</td>\n",
       "      <td>1.257193e+18</td>\n",
       "      <td>#immobilier #COVID2019 #CoronavirusFrance #loc...</td>\n",
       "    </tr>\n",
       "    <tr>\n",
       "      <th>2</th>\n",
       "      <td>2</td>\n",
       "      <td>2020-04-27 13:33:48</td>\n",
       "      <td>1.254766e+18</td>\n",
       "      <td>RT @MathildePanot: 🚨 Parce qu’il existe une al...</td>\n",
       "    </tr>\n",
       "    <tr>\n",
       "      <th>3</th>\n",
       "      <td>3</td>\n",
       "      <td>2020-04-30 11:53:41</td>\n",
       "      <td>1.255828e+18</td>\n",
       "      <td>RT @AntoineMaes: Le @RCLens qui galère à monte...</td>\n",
       "    </tr>\n",
       "    <tr>\n",
       "      <th>4</th>\n",
       "      <td>4</td>\n",
       "      <td>2020-04-27 02:38:19</td>\n",
       "      <td>1.254601e+18</td>\n",
       "      <td>RT @holste_max: Un pays où il est plus facile ...</td>\n",
       "    </tr>\n",
       "  </tbody>\n",
       "</table>\n",
       "</div>"
      ],
      "text/plain": [
       "  Unnamed: 0             Datetime      id_tweet  \\\n",
       "0          0  2020-04-28 08:45:41  1.255056e+18   \n",
       "1          1  2020-05-04 06:18:22  1.257193e+18   \n",
       "2          2  2020-04-27 13:33:48  1.254766e+18   \n",
       "3          3  2020-04-30 11:53:41  1.255828e+18   \n",
       "4          4  2020-04-27 02:38:19  1.254601e+18   \n",
       "\n",
       "                                               tweet  \n",
       "0  Heureusement que le côté Compassion et Pratiqu...  \n",
       "1  #immobilier #COVID2019 #CoronavirusFrance #loc...  \n",
       "2  RT @MathildePanot: 🚨 Parce qu’il existe une al...  \n",
       "3  RT @AntoineMaes: Le @RCLens qui galère à monte...  \n",
       "4  RT @holste_max: Un pays où il est plus facile ...  "
      ]
     },
     "execution_count": 14,
     "metadata": {},
     "output_type": "execute_result"
    }
   ],
   "source": [
    "## look at data\n",
    "df = pd.read_csv('../data/Tweets_COVID19_France.csv')\n",
    "## goes back a folder \"../\"\n",
    "df.head()"
   ]
  },
  {
   "cell_type": "markdown",
   "metadata": {},
   "source": [
    "##### Pre-processing: example of usage and results"
   ]
  },
  {
   "cell_type": "markdown",
   "metadata": {},
   "source": [
    "#### Clean the full sample and export"
   ]
  },
  {
   "cell_type": "markdown",
   "metadata": {},
   "source": [
    "# w2v vectorizer"
   ]
  },
  {
   "cell_type": "markdown",
   "metadata": {},
   "source": [
    "##### w2v model"
   ]
  },
  {
   "cell_type": "code",
   "execution_count": 18,
   "metadata": {},
   "outputs": [
    {
     "ename": "TypeError",
     "evalue": "decoding to str: need a bytes-like object, float found",
     "output_type": "error",
     "traceback": [
      "\u001b[0;31m---------------------------------------------------------------------------\u001b[0m",
      "\u001b[0;31mTypeError\u001b[0m                                 Traceback (most recent call last)",
      "\u001b[0;32m<timed exec>\u001b[0m in \u001b[0;36m<module>\u001b[0;34m\u001b[0m\n",
      "\u001b[0;32m/opt/anaconda3/lib/python3.9/site-packages/pandas/core/series.py\u001b[0m in \u001b[0;36mapply\u001b[0;34m(self, func, convert_dtype, args, **kwargs)\u001b[0m\n\u001b[1;32m   4355\u001b[0m         \u001b[0mdtype\u001b[0m\u001b[0;34m:\u001b[0m \u001b[0mfloat64\u001b[0m\u001b[0;34m\u001b[0m\u001b[0;34m\u001b[0m\u001b[0m\n\u001b[1;32m   4356\u001b[0m         \"\"\"\n\u001b[0;32m-> 4357\u001b[0;31m         \u001b[0;32mreturn\u001b[0m \u001b[0mSeriesApply\u001b[0m\u001b[0;34m(\u001b[0m\u001b[0mself\u001b[0m\u001b[0;34m,\u001b[0m \u001b[0mfunc\u001b[0m\u001b[0;34m,\u001b[0m \u001b[0mconvert_dtype\u001b[0m\u001b[0;34m,\u001b[0m \u001b[0margs\u001b[0m\u001b[0;34m,\u001b[0m \u001b[0mkwargs\u001b[0m\u001b[0;34m)\u001b[0m\u001b[0;34m.\u001b[0m\u001b[0mapply\u001b[0m\u001b[0;34m(\u001b[0m\u001b[0;34m)\u001b[0m\u001b[0;34m\u001b[0m\u001b[0;34m\u001b[0m\u001b[0m\n\u001b[0m\u001b[1;32m   4358\u001b[0m \u001b[0;34m\u001b[0m\u001b[0m\n\u001b[1;32m   4359\u001b[0m     def _reduce(\n",
      "\u001b[0;32m/opt/anaconda3/lib/python3.9/site-packages/pandas/core/apply.py\u001b[0m in \u001b[0;36mapply\u001b[0;34m(self)\u001b[0m\n\u001b[1;32m   1041\u001b[0m             \u001b[0;32mreturn\u001b[0m \u001b[0mself\u001b[0m\u001b[0;34m.\u001b[0m\u001b[0mapply_str\u001b[0m\u001b[0;34m(\u001b[0m\u001b[0;34m)\u001b[0m\u001b[0;34m\u001b[0m\u001b[0;34m\u001b[0m\u001b[0m\n\u001b[1;32m   1042\u001b[0m \u001b[0;34m\u001b[0m\u001b[0m\n\u001b[0;32m-> 1043\u001b[0;31m         \u001b[0;32mreturn\u001b[0m \u001b[0mself\u001b[0m\u001b[0;34m.\u001b[0m\u001b[0mapply_standard\u001b[0m\u001b[0;34m(\u001b[0m\u001b[0;34m)\u001b[0m\u001b[0;34m\u001b[0m\u001b[0;34m\u001b[0m\u001b[0m\n\u001b[0m\u001b[1;32m   1044\u001b[0m \u001b[0;34m\u001b[0m\u001b[0m\n\u001b[1;32m   1045\u001b[0m     \u001b[0;32mdef\u001b[0m \u001b[0magg\u001b[0m\u001b[0;34m(\u001b[0m\u001b[0mself\u001b[0m\u001b[0;34m)\u001b[0m\u001b[0;34m:\u001b[0m\u001b[0;34m\u001b[0m\u001b[0;34m\u001b[0m\u001b[0m\n",
      "\u001b[0;32m/opt/anaconda3/lib/python3.9/site-packages/pandas/core/apply.py\u001b[0m in \u001b[0;36mapply_standard\u001b[0;34m(self)\u001b[0m\n\u001b[1;32m   1096\u001b[0m                 \u001b[0;31m# List[Union[Callable[..., Any], str]]]]]\"; expected\u001b[0m\u001b[0;34m\u001b[0m\u001b[0;34m\u001b[0m\u001b[0m\n\u001b[1;32m   1097\u001b[0m                 \u001b[0;31m# \"Callable[[Any], Any]\"\u001b[0m\u001b[0;34m\u001b[0m\u001b[0;34m\u001b[0m\u001b[0m\n\u001b[0;32m-> 1098\u001b[0;31m                 mapped = lib.map_infer(\n\u001b[0m\u001b[1;32m   1099\u001b[0m                     \u001b[0mvalues\u001b[0m\u001b[0;34m,\u001b[0m\u001b[0;34m\u001b[0m\u001b[0;34m\u001b[0m\u001b[0m\n\u001b[1;32m   1100\u001b[0m                     \u001b[0mf\u001b[0m\u001b[0;34m,\u001b[0m  \u001b[0;31m# type: ignore[arg-type]\u001b[0m\u001b[0;34m\u001b[0m\u001b[0;34m\u001b[0m\u001b[0m\n",
      "\u001b[0;32m/opt/anaconda3/lib/python3.9/site-packages/pandas/_libs/lib.pyx\u001b[0m in \u001b[0;36mpandas._libs.lib.map_infer\u001b[0;34m()\u001b[0m\n",
      "\u001b[0;32m/opt/anaconda3/lib/python3.9/site-packages/gensim/utils.py\u001b[0m in \u001b[0;36msimple_preprocess\u001b[0;34m(doc, deacc, min_len, max_len)\u001b[0m\n\u001b[1;32m    312\u001b[0m     \"\"\"\n\u001b[1;32m    313\u001b[0m     tokens = [\n\u001b[0;32m--> 314\u001b[0;31m         \u001b[0mtoken\u001b[0m \u001b[0;32mfor\u001b[0m \u001b[0mtoken\u001b[0m \u001b[0;32min\u001b[0m \u001b[0mtokenize\u001b[0m\u001b[0;34m(\u001b[0m\u001b[0mdoc\u001b[0m\u001b[0;34m,\u001b[0m \u001b[0mlower\u001b[0m\u001b[0;34m=\u001b[0m\u001b[0;32mTrue\u001b[0m\u001b[0;34m,\u001b[0m \u001b[0mdeacc\u001b[0m\u001b[0;34m=\u001b[0m\u001b[0mdeacc\u001b[0m\u001b[0;34m,\u001b[0m \u001b[0merrors\u001b[0m\u001b[0;34m=\u001b[0m\u001b[0;34m'ignore'\u001b[0m\u001b[0;34m)\u001b[0m\u001b[0;34m\u001b[0m\u001b[0;34m\u001b[0m\u001b[0m\n\u001b[0m\u001b[1;32m    315\u001b[0m         \u001b[0;32mif\u001b[0m \u001b[0mmin_len\u001b[0m \u001b[0;34m<=\u001b[0m \u001b[0mlen\u001b[0m\u001b[0;34m(\u001b[0m\u001b[0mtoken\u001b[0m\u001b[0;34m)\u001b[0m \u001b[0;34m<=\u001b[0m \u001b[0mmax_len\u001b[0m \u001b[0;32mand\u001b[0m \u001b[0;32mnot\u001b[0m \u001b[0mtoken\u001b[0m\u001b[0;34m.\u001b[0m\u001b[0mstartswith\u001b[0m\u001b[0;34m(\u001b[0m\u001b[0;34m'_'\u001b[0m\u001b[0;34m)\u001b[0m\u001b[0;34m\u001b[0m\u001b[0;34m\u001b[0m\u001b[0m\n\u001b[1;32m    316\u001b[0m     ]\n",
      "\u001b[0;32m/opt/anaconda3/lib/python3.9/site-packages/gensim/utils.py\u001b[0m in \u001b[0;36mtokenize\u001b[0;34m(text, lowercase, deacc, encoding, errors, to_lower, lower)\u001b[0m\n\u001b[1;32m    263\u001b[0m     \"\"\"\n\u001b[1;32m    264\u001b[0m     \u001b[0mlowercase\u001b[0m \u001b[0;34m=\u001b[0m \u001b[0mlowercase\u001b[0m \u001b[0;32mor\u001b[0m \u001b[0mto_lower\u001b[0m \u001b[0;32mor\u001b[0m \u001b[0mlower\u001b[0m\u001b[0;34m\u001b[0m\u001b[0;34m\u001b[0m\u001b[0m\n\u001b[0;32m--> 265\u001b[0;31m     \u001b[0mtext\u001b[0m \u001b[0;34m=\u001b[0m \u001b[0mto_unicode\u001b[0m\u001b[0;34m(\u001b[0m\u001b[0mtext\u001b[0m\u001b[0;34m,\u001b[0m \u001b[0mencoding\u001b[0m\u001b[0;34m,\u001b[0m \u001b[0merrors\u001b[0m\u001b[0;34m=\u001b[0m\u001b[0merrors\u001b[0m\u001b[0;34m)\u001b[0m\u001b[0;34m\u001b[0m\u001b[0;34m\u001b[0m\u001b[0m\n\u001b[0m\u001b[1;32m    266\u001b[0m     \u001b[0;32mif\u001b[0m \u001b[0mlowercase\u001b[0m\u001b[0;34m:\u001b[0m\u001b[0;34m\u001b[0m\u001b[0;34m\u001b[0m\u001b[0m\n\u001b[1;32m    267\u001b[0m         \u001b[0mtext\u001b[0m \u001b[0;34m=\u001b[0m \u001b[0mtext\u001b[0m\u001b[0;34m.\u001b[0m\u001b[0mlower\u001b[0m\u001b[0;34m(\u001b[0m\u001b[0;34m)\u001b[0m\u001b[0;34m\u001b[0m\u001b[0;34m\u001b[0m\u001b[0m\n",
      "\u001b[0;32m/opt/anaconda3/lib/python3.9/site-packages/gensim/utils.py\u001b[0m in \u001b[0;36many2unicode\u001b[0;34m(text, encoding, errors)\u001b[0m\n\u001b[1;32m    366\u001b[0m     \u001b[0;32mif\u001b[0m \u001b[0misinstance\u001b[0m\u001b[0;34m(\u001b[0m\u001b[0mtext\u001b[0m\u001b[0;34m,\u001b[0m \u001b[0municode\u001b[0m\u001b[0;34m)\u001b[0m\u001b[0;34m:\u001b[0m\u001b[0;34m\u001b[0m\u001b[0;34m\u001b[0m\u001b[0m\n\u001b[1;32m    367\u001b[0m         \u001b[0;32mreturn\u001b[0m \u001b[0mtext\u001b[0m\u001b[0;34m\u001b[0m\u001b[0;34m\u001b[0m\u001b[0m\n\u001b[0;32m--> 368\u001b[0;31m     \u001b[0;32mreturn\u001b[0m \u001b[0municode\u001b[0m\u001b[0;34m(\u001b[0m\u001b[0mtext\u001b[0m\u001b[0;34m,\u001b[0m \u001b[0mencoding\u001b[0m\u001b[0;34m,\u001b[0m \u001b[0merrors\u001b[0m\u001b[0;34m=\u001b[0m\u001b[0merrors\u001b[0m\u001b[0;34m)\u001b[0m\u001b[0;34m\u001b[0m\u001b[0;34m\u001b[0m\u001b[0m\n\u001b[0m\u001b[1;32m    369\u001b[0m \u001b[0;34m\u001b[0m\u001b[0m\n\u001b[1;32m    370\u001b[0m \u001b[0;34m\u001b[0m\u001b[0m\n",
      "\u001b[0;31mTypeError\u001b[0m: decoding to str: need a bytes-like object, float found"
     ]
    }
   ],
   "source": [
    "%%time\n",
    "# Parameters for w2v\n",
    "num_features = 300    # Word vector dimensionality                      \n",
    "min_word_count = 1   # Minimum word count                        \n",
    "num_workers = 4       # Number of threads to run in parallel\n",
    "context = 10          # Context window size                                                                                    \n",
    "#downsampling = 1e-3   # Downsample setting for frequent words\n",
    "\n",
    "\n",
    "# Prepare a list of tokens as input for w2v\n",
    "df['tokens'] = df['tweet'].apply( gensim.utils.simple_preprocess)\n",
    "\n",
    "# Takes ~8 mins to train with 300 features\n",
    "# model_1M = gensim.models.Word2Vec(documents, \n",
    "#                                   size=num_features, \n",
    "#                                   window=context, \n",
    "#                                   min_count=min_word_count,\n",
    "#                                   workers=4)\n",
    "# model_1M.train(documents, total_examples=len(documents), epochs=10)\n",
    "# with open(SAVED_MODEL, \"wb\") as f:\n",
    "#     pickle.dump(model_1M, f)\n",
    "\n",
    "        \n",
    "# w2v_1M = dict(zip(model_1M.wv.index2word, model_1M.wv.syn0))\n",
    "df.head()"
   ]
  },
  {
   "cell_type": "markdown",
   "metadata": {},
   "source": [
    "#### Fit tfIdf vectorizer to weight w2v vectors (SLOW)"
   ]
  },
  {
   "cell_type": "code",
   "execution_count": 27,
   "metadata": {},
   "outputs": [
    {
     "name": "stdout",
     "output_type": "stream",
     "text": [
      "Path: /Volumes/MIchi Hard /models/saved_w2vec_1M_vectorizer_with_stem_sw_removed_nf300_mvc1_cont10.pkl\n",
      "Training vectorizer...\n"
     ]
    },
    {
     "ename": "NameError",
     "evalue": "name 'w2v_1M' is not defined",
     "output_type": "error",
     "traceback": [
      "\u001b[0;31m---------------------------------------------------------------------------\u001b[0m",
      "\u001b[0;31mNameError\u001b[0m                                 Traceback (most recent call last)",
      "\u001b[0;32m<timed exec>\u001b[0m in \u001b[0;36m<module>\u001b[0;34m\u001b[0m\n",
      "\u001b[0;31mNameError\u001b[0m: name 'w2v_1M' is not defined"
     ]
    }
   ],
   "source": [
    "%%time\n",
    "\n",
    "base_vec_name = 'saved_w2vec_1M_vectorizer'\n",
    "full_vec_name = base_vec_name+stem_str+sw_str\n",
    "\n",
    "\n",
    "SAVED_1M_VEC= models_dir+full_vec_name+'_nf'+str(num_features)+'_mvc'+str(min_word_count)\\\n",
    "            +'_cont'+str(context)+'.pkl'#+'_ds'+str(downsampling)\n",
    "\n",
    "print('Path: '+SAVED_1M_VEC)    \n",
    "    \n",
    "if not os.path.exists(SAVED_1M_VEC):\n",
    "\n",
    "        print(\"Training vectorizer...\")\n",
    "        # building 1M vectorizer\n",
    "        # Takes ~20 mins to train\n",
    "        my_vectorizer_1M = TfidfEmbeddingVectorizer(w2v_1M)\n",
    "        if remove_sw:\n",
    "            my_vectorizer_1M.fit(df.clean_tweets, stem=stem, rem_sw=True)\n",
    "        else:\n",
    "            my_vectorizer_1M.fit(df.clean_tweets, stem=stem, rem_sw=False)\n",
    "                \n",
    "        with open(SAVED_1M_VEC, \"wb\") as f:\n",
    "            pickle.dump(my_vectorizer_1M, f)\n",
    "\n",
    "else:\n",
    "        print(\"Loading vectorizer...\")\n",
    "        with open(SAVED_1M_VEC, \"rb\") as f:\n",
    "            my_vectorizer_1M = pickle.load(f)\n"
   ]
  },
  {
   "cell_type": "markdown",
   "metadata": {},
   "source": [
    "# Machine Learning"
   ]
  },
  {
   "cell_type": "markdown",
   "metadata": {},
   "source": [
    "##### pre-processing"
   ]
  },
  {
   "cell_type": "code",
   "execution_count": 28,
   "metadata": {},
   "outputs": [
    {
     "data": {
      "text/plain": [
       "1.0    3057\n",
       "0.0     543\n",
       "Name: Label, dtype: int64"
      ]
     },
     "execution_count": 28,
     "metadata": {},
     "output_type": "execute_result"
    },
    {
     "data": {
      "text/html": [
       "<div>\n",
       "<style scoped>\n",
       "    .dataframe tbody tr th:only-of-type {\n",
       "        vertical-align: middle;\n",
       "    }\n",
       "\n",
       "    .dataframe tbody tr th {\n",
       "        vertical-align: top;\n",
       "    }\n",
       "\n",
       "    .dataframe thead th {\n",
       "        text-align: right;\n",
       "    }\n",
       "</style>\n",
       "<table border=\"1\" class=\"dataframe\">\n",
       "  <thead>\n",
       "    <tr style=\"text-align: right;\">\n",
       "      <th></th>\n",
       "      <th>Label</th>\n",
       "      <th>ID</th>\n",
       "      <th>Texte</th>\n",
       "      <th>Texte_clean</th>\n",
       "    </tr>\n",
       "  </thead>\n",
       "  <tbody>\n",
       "    <tr>\n",
       "      <th>0</th>\n",
       "      <td>1.0</td>\n",
       "      <td>998206424189751296</td>\n",
       "      <td>On m’avait sorti (pour de vrai) « on est tous ...</td>\n",
       "      <td>v  r  p u r  e  v r   e  u  e g   p u   p r ...</td>\n",
       "    </tr>\n",
       "    <tr>\n",
       "      <th>1</th>\n",
       "      <td>1.0</td>\n",
       "      <td>997896508384169984</td>\n",
       "      <td>VIVE L AMOUR ❤VIVE LA PAIX\\n❤❤❤❤❤❤❤❤❤❤❤❤👏👍\\nEN...</td>\n",
       "      <td>v v   u r  v v   p x  e r e  e  p e u p  u   p...</td>\n",
       "    </tr>\n",
       "    <tr>\n",
       "      <th>2</th>\n",
       "      <td>0.0</td>\n",
       "      <td>31</td>\n",
       "      <td>J'me rend compte à quel point ya trop d'noir d...</td>\n",
       "      <td>e  r e  p   q u e  p   r p   r     e f   r p ...</td>\n",
       "    </tr>\n",
       "    <tr>\n",
       "      <th>3</th>\n",
       "      <td>0.0</td>\n",
       "      <td>998519485467414529</td>\n",
       "      <td>@KrypsKarmaKid Tu traites qui de salope la seu...</td>\n",
       "      <td>u  r  q u  e  p   e u  p e  e     e r   p u  e...</td>\n",
       "    </tr>\n",
       "    <tr>\n",
       "      <th>4</th>\n",
       "      <td>0.0</td>\n",
       "      <td>997799245464899584</td>\n",
       "      <td>Voilà à quoi tu dois me servir sale pute ! Ta ...</td>\n",
       "      <td>v   q u  u   e  e r v   p u   e u  u e  e  e  ...</td>\n",
       "    </tr>\n",
       "  </tbody>\n",
       "</table>\n",
       "</div>"
      ],
      "text/plain": [
       "   Label                  ID  \\\n",
       "0    1.0  998206424189751296   \n",
       "1    1.0  997896508384169984   \n",
       "2    0.0                  31   \n",
       "3    0.0  998519485467414529   \n",
       "4    0.0  997799245464899584   \n",
       "\n",
       "                                               Texte  \\\n",
       "0  On m’avait sorti (pour de vrai) « on est tous ...   \n",
       "1  VIVE L AMOUR ❤VIVE LA PAIX\\n❤❤❤❤❤❤❤❤❤❤❤❤👏👍\\nEN...   \n",
       "2  J'me rend compte à quel point ya trop d'noir d...   \n",
       "3  @KrypsKarmaKid Tu traites qui de salope la seu...   \n",
       "4  Voilà à quoi tu dois me servir sale pute ! Ta ...   \n",
       "\n",
       "                                         Texte_clean  \n",
       "0    v  r  p u r  e  v r   e  u  e g   p u   p r ...  \n",
       "1  v v   u r  v v   p x  e r e  e  p e u p  u   p...  \n",
       "2   e  r e  p   q u e  p   r p   r     e f   r p ...  \n",
       "3  u  r  q u  e  p   e u  p e  e     e r   p u  e...  \n",
       "4  v   q u  u   e  e r v   p u   e u  u e  e  e  ...  "
      ]
     },
     "execution_count": 28,
     "metadata": {},
     "output_type": "execute_result"
    }
   ],
   "source": [
    "data_path = data_dir+'tweets_labeled_4k_cleaned.csv'\n",
    "\n",
    "tw_data = pd.read_csv(data_path)#.drop('id', axis=1).rename(columns={'label': 'Label', 'tweet': 'Texte'})\n",
    "\n",
    "# Fix labels\n",
    "labels = {'n':1, 'N':1, 'h':0, 'H':0, 'ENG':-1, 's':0, \n",
    "          'S':0, 'SH':0, 'PUB':-1, 'sh':0, 'f':-1, 'nn':1}\n",
    "\n",
    "tw_data['Label'].replace(labels, inplace=True)\n",
    "tw_data.drop(tw_data[tw_data.Label == -1].index, inplace=True) #removing ads etc.\n",
    "\n",
    "# Clean text. Youc an choose whether to remove stopwords and stem.\n",
    "# Note: use the same pre-processing used for the dataset on which w2v has been trained !\n",
    "# In particular, here I don't remove stopwords, \n",
    "# since they could change substantially the meaning of a phrase\n",
    "\n",
    "if not remove_sw:\n",
    "    tw_data['Texte_clean'] = tw_data.Texte.apply(lambda x:tweet_cleaner(x, my_dict, stem=stem))\n",
    "else:\n",
    "    tw_data['Texte_clean'] = tw_data.Texte.apply(lambda x:' '.join(remove_stopwords(\n",
    "                        tokenize(\n",
    "                        tweet_cleaner(\n",
    "                            x,\n",
    "                            my_dict,\n",
    "                            stem=stem)),\n",
    "                    generate_stopwords())))\n",
    "\n",
    "\n",
    "\n",
    "tw_data = tw_data.drop_duplicates(subset='Texte_clean')\n",
    "tw_data = tw_data.dropna()\n",
    "\n",
    "\n",
    "tw_data = tw_data.reset_index(drop=True)\n",
    "tw_data['Label'].value_counts()\n",
    "tw_data.head()"
   ]
  },
  {
   "cell_type": "markdown",
   "metadata": {},
   "source": [
    "##### features"
   ]
  },
  {
   "cell_type": "code",
   "execution_count": 29,
   "metadata": {},
   "outputs": [
    {
     "ename": "NameError",
     "evalue": "name 'model_1M' is not defined",
     "output_type": "error",
     "traceback": [
      "\u001b[0;31m---------------------------------------------------------------------------\u001b[0m",
      "\u001b[0;31mNameError\u001b[0m                                 Traceback (most recent call last)",
      "\u001b[0;32m<timed exec>\u001b[0m in \u001b[0;36m<module>\u001b[0;34m\u001b[0m\n",
      "\u001b[0;31mNameError\u001b[0m: name 'model_1M' is not defined"
     ]
    }
   ],
   "source": [
    "%%time\n",
    "print(len(model_1M.wv.index2word), \"mots ont été vectorisés\")\n",
    "print(\"Chaque mot est représenté selon\", model_1M.wv.syn0[0].shape[0], \"dimensions\")\n",
    "\n",
    "words_list = []\n",
    "for tweet in list(tw_data['Texte_clean']):\n",
    "    for w in list(tweet.split()):\n",
    "        words_list.append(w)\n",
    "\n",
    "words_data = pd.DataFrame(words_list).drop_duplicates()\n",
    "\n",
    "count = 0\n",
    "for w in list(words_data[0]):\n",
    "    if w not in model_1M.wv.index2word:\n",
    "        count +=1\n",
    "\n",
    "print(count, \"mots sur\", len(words_data), \"sont dans les tweets clean et pas dans le dict w2v\")\n",
    "print(len(words_data))\n",
    "print(len(words_list))"
   ]
  },
  {
   "cell_type": "code",
   "execution_count": 30,
   "metadata": {},
   "outputs": [
    {
     "ename": "AttributeError",
     "evalue": "'DataFrame' object has no attribute 'as_matrix'",
     "output_type": "error",
     "traceback": [
      "\u001b[0;31m---------------------------------------------------------------------------\u001b[0m",
      "\u001b[0;31mAttributeError\u001b[0m                            Traceback (most recent call last)",
      "\u001b[0;32m<timed exec>\u001b[0m in \u001b[0;36m<module>\u001b[0;34m\u001b[0m\n",
      "\u001b[0;32m/opt/anaconda3/lib/python3.9/site-packages/pandas/core/generic.py\u001b[0m in \u001b[0;36m__getattr__\u001b[0;34m(self, name)\u001b[0m\n\u001b[1;32m   5485\u001b[0m         ):\n\u001b[1;32m   5486\u001b[0m             \u001b[0;32mreturn\u001b[0m \u001b[0mself\u001b[0m\u001b[0;34m[\u001b[0m\u001b[0mname\u001b[0m\u001b[0;34m]\u001b[0m\u001b[0;34m\u001b[0m\u001b[0;34m\u001b[0m\u001b[0m\n\u001b[0;32m-> 5487\u001b[0;31m         \u001b[0;32mreturn\u001b[0m \u001b[0mobject\u001b[0m\u001b[0;34m.\u001b[0m\u001b[0m__getattribute__\u001b[0m\u001b[0;34m(\u001b[0m\u001b[0mself\u001b[0m\u001b[0;34m,\u001b[0m \u001b[0mname\u001b[0m\u001b[0;34m)\u001b[0m\u001b[0;34m\u001b[0m\u001b[0;34m\u001b[0m\u001b[0m\n\u001b[0m\u001b[1;32m   5488\u001b[0m \u001b[0;34m\u001b[0m\u001b[0m\n\u001b[1;32m   5489\u001b[0m     \u001b[0;32mdef\u001b[0m \u001b[0m__setattr__\u001b[0m\u001b[0;34m(\u001b[0m\u001b[0mself\u001b[0m\u001b[0;34m,\u001b[0m \u001b[0mname\u001b[0m\u001b[0;34m:\u001b[0m \u001b[0mstr\u001b[0m\u001b[0;34m,\u001b[0m \u001b[0mvalue\u001b[0m\u001b[0;34m)\u001b[0m \u001b[0;34m->\u001b[0m \u001b[0;32mNone\u001b[0m\u001b[0;34m:\u001b[0m\u001b[0;34m\u001b[0m\u001b[0;34m\u001b[0m\u001b[0m\n",
      "\u001b[0;31mAttributeError\u001b[0m: 'DataFrame' object has no attribute 'as_matrix'"
     ]
    }
   ],
   "source": [
    "%%time\n",
    "# lexical features\n",
    "tw_data = add_lexical_features(tw_data)\n",
    "lex_cols = ['nbr_characters','nbr_words', 'nbr_ats', 'nbr_hashtags', 'nbr_urls',\n",
    "            'nbr_letters','nbr_caps', 'nbr_fancy' ]\n",
    "lex_features = tw_data.as_matrix(columns=lex_cols)\n",
    "\n",
    "# w2v features, weighted\n",
    "features_1M_data = my_vectorizer_1M.transform(tw_data.Texte_clean)\n",
    "\n",
    "# w2v features, no weight\n",
    "my_vectorizer_1M_noweight = MeanEmbeddingVectorizer(w2v_1M)\n",
    "features_1M_not_weighted = my_vectorizer_1M_noweight.transform(tw_data.Texte_clean)\n",
    "\n",
    "\n",
    "\n",
    "# tfidf features. We impose a feature vector of 90% the size of the dataset, \n",
    "# so that n_features < n_data. This can be changed\n",
    "\n",
    "features_tfidf, words_freq, vocab = get_tfidf_frequencies(tw_data.Texte_clean,\n",
    "                                                            stem=True,\n",
    "                                                            remove_stopwords=False,\n",
    "                                                            ngram_range=(1,3),\n",
    "                                                          n_features = round((tw_data.shape[0]/10)*9)\n",
    "                                                         )\n",
    "\n",
    "\n",
    "# converting the 4K labeled data into one vector, \n",
    "# in order to keep only the closests to re-run w2v embedding\n",
    "labels_vector = features_1M_data.mean(axis=0)\n",
    "\n",
    "\n",
    "# Concatenation\n",
    "M_1M = np.concatenate([features_1M_data, lex_features],axis=1)\n",
    "print('w2v features dimension: %s' %str(M_1M.shape))  \n",
    "\n",
    "M_tfidf = np.concatenate([features_tfidf, lex_features],axis=1)\n",
    "print('Tf-Idf features dimension: %s' %str(M_tfidf.shape))\n",
    "\n",
    "\n",
    "M_not_weighted = np.concatenate([features_1M_not_weighted, lex_features],axis=1)\n"
   ]
  },
  {
   "cell_type": "markdown",
   "metadata": {},
   "source": [
    "#### Select  a subset of the 1M tweets that is closer to the labels vector to re-train w2v embedding (SLOW )"
   ]
  },
  {
   "cell_type": "code",
   "execution_count": 31,
   "metadata": {},
   "outputs": [
    {
     "name": "stdout",
     "output_type": "stream",
     "text": [
      "Path: /Volumes/MIchi Hard /models/saved_w2vec_selected_with_stem_sw_removed_nf300_mvc1_cont10.pkl\n",
      "Transforming 1 Milion features with w2v...\n"
     ]
    },
    {
     "ename": "NameError",
     "evalue": "name 'my_vectorizer_1M' is not defined",
     "output_type": "error",
     "traceback": [
      "\u001b[0;31m---------------------------------------------------------------------------\u001b[0m",
      "\u001b[0;31mNameError\u001b[0m                                 Traceback (most recent call last)",
      "\u001b[0;32m<timed exec>\u001b[0m in \u001b[0;36m<module>\u001b[0;34m\u001b[0m\n",
      "\u001b[0;31mNameError\u001b[0m: name 'my_vectorizer_1M' is not defined"
     ]
    }
   ],
   "source": [
    "%%time\n",
    "\n",
    "base_model_name_1 = 'saved_w2vec_selected'\n",
    "full_model_name_1 = base_model_name_1+stem_str+sw_str\n",
    "\n",
    "SAVED_MODEL_1 = models_dir+full_model_name_1+'_nf'+str(num_features)+'_mvc'+str(min_word_count)\\\n",
    "            +'_cont'+str(context)+'.pkl'#+'_ds'+str(downsampling)\n",
    "\n",
    "print('Path: '+SAVED_MODEL_1 )\n",
    "    \n",
    "if not os.path.exists(SAVED_MODEL_1):\n",
    "    \n",
    "    t = current_milli_time()\n",
    "    print(\"Transforming 1 Milion features with w2v...\") # This takes ~2min\n",
    "    features_1M_1M = my_vectorizer_1M.transform(df.clean_tweets)\n",
    "    print(\"it takes about\",(current_milli_time()-t)/60000,\"minutes\")\n",
    "    \n",
    "    print(\"Re-fitting model...\")\n",
    "    t = current_milli_time()\n",
    "     \n",
    "    # measuring distances between 1M tweets baseline and the average vector\n",
    "    # of the 4K labelled tweets\n",
    "\n",
    "    norm_labels = np.linalg.norm(labels_vector)\n",
    "    norm_features = np.linalg.norm(features_1M_1M, axis=1)\n",
    "    dot = labels_vector.dot(features_1M_1M.T)\n",
    "    df['similarity'] = dot/(norm_labels*norm_features)\n",
    "    df['len'] = [len(t.split()) for t in df.clean_tweets]\n",
    "    \n",
    "    # designing a subset of the 1M tweets that is closer to the labels vector,\n",
    "    # to re-train w2v embedding\n",
    "    seuil_len = 5\n",
    "    seuil_sim = 0.5\n",
    "    df_selected = df.sort_values(by='similarity', ascending=False).drop(df[df.len<seuil_len].index)\n",
    "    df_selected = df_selected.drop(df_selected[df_selected.similarity<seuil_sim].index)\n",
    "\n",
    "    # generate documents list for training w2v\n",
    "    documents_selected = [tweet.split() for tweet in list(df_selected['clean_tweets'])]\n",
    "    \n",
    "    \n",
    "    \n",
    "    model_selected = gensim.models.Word2Vec(documents_selected, \n",
    "                                      size=num_features, \n",
    "                                      window=context, \n",
    "                                      min_count=min_word_count,\n",
    "                                      workers=4)\n",
    "    model_selected.train(documents_selected, total_examples=len(documents_selected), epochs=10)\n",
    "    print(\"it takes about\",(current_milli_time()-t)/60000,\"minutes\")\n",
    "    with open(SAVED_MODEL_1, \"wb\") as f:\n",
    "        pickle.dump(model_selected, f)\n",
    "else:\n",
    "    print(\"Loading model...\")\n",
    "    with open(SAVED_MODEL_1, \"rb\") as f:\n",
    "        model_selected = pickle.load(f)\n",
    "        \n",
    "w2v_selected = dict(zip(model_selected.wv.index2word, model_selected.wv.syn0))"
   ]
  },
  {
   "cell_type": "code",
   "execution_count": 32,
   "metadata": {},
   "outputs": [
    {
     "name": "stdout",
     "output_type": "stream",
     "text": [
      "Path: /Volumes/MIchi Hard /models/saved_w2vec_selected_vectorizer_with_stem_sw_removed_nf300_mvc1_cont10.pkl\n",
      "Fitting vectorizer...\n"
     ]
    },
    {
     "ename": "NameError",
     "evalue": "name 'w2v_selected' is not defined",
     "output_type": "error",
     "traceback": [
      "\u001b[0;31m---------------------------------------------------------------------------\u001b[0m",
      "\u001b[0;31mNameError\u001b[0m                                 Traceback (most recent call last)",
      "\u001b[0;32m<timed exec>\u001b[0m in \u001b[0;36m<module>\u001b[0;34m\u001b[0m\n",
      "\u001b[0;31mNameError\u001b[0m: name 'w2v_selected' is not defined"
     ]
    }
   ],
   "source": [
    "%%time\n",
    "\n",
    "base_vec_name_1 = 'saved_w2vec_selected_vectorizer'\n",
    "full_vec_name_1 = base_vec_name_1+stem_str+sw_str\n",
    "\n",
    "\n",
    "SAVED_VEC_1= models_dir+full_vec_name_1+'_nf'+str(num_features)+'_mvc'+str(min_word_count)\\\n",
    "            +'_cont'+str(context)+'.pkl'#+'_ds'+str(downsampling)\n",
    "\n",
    "\n",
    "print(\"Path: \"+ SAVED_VEC_1)\n",
    "        \n",
    "if not os.path.exists(SAVED_VEC_1):\n",
    "    \n",
    "    print(\"Fitting vectorizer...\")\n",
    "    # Takes ~ 10mins\n",
    "    t = current_milli_time()\n",
    "\n",
    "    my_vectorizer_selected = TfidfEmbeddingVectorizer(w2v_selected)\n",
    "    if remove_sw:\n",
    "        my_vectorizer_selected.fit(df_selected['clean_tweets'], stem=stem, rem_sw=True)\n",
    "    else:\n",
    "        my_vectorizer_selected.fit(df_selected['clean_tweets'], stem=stem, rem_sw=False)\n",
    "\n",
    "\n",
    "    print(\"it takes about\",(current_milli_time()-t)/60000,\"minutes\")\n",
    "    \n",
    "    with open(SAVED_VEC_1, \"wb\") as f:\n",
    "        pickle.dump(my_vectorizer_selected, f)\n",
    "\n",
    "else:\n",
    "    print(\"Loading vectorizer...\")\n",
    "    with open(SAVED_VEC_1, \"rb\") as f:\n",
    "          my_vectorizer_selected = pickle.load(f)\n",
    "\n",
    "\n",
    "            \n",
    "features_selected = my_vectorizer_selected.transform(tw_data.Texte_clean)\n",
    "\n",
    "M_selected = np.concatenate([features_selected,lex_features],axis=1)\n",
    "\n"
   ]
  },
  {
   "cell_type": "markdown",
   "metadata": {},
   "source": [
    "## training & evaluation"
   ]
  },
  {
   "cell_type": "code",
   "execution_count": 33,
   "metadata": {},
   "outputs": [
    {
     "ename": "NameError",
     "evalue": "name 'M_1M' is not defined",
     "output_type": "error",
     "traceback": [
      "\u001b[0;31m---------------------------------------------------------------------------\u001b[0m",
      "\u001b[0;31mNameError\u001b[0m                                 Traceback (most recent call last)",
      "\u001b[0;32m/var/folders/mc/1k6qg5js1x31mqzdq17v2yym0000gn/T/ipykernel_16368/936749268.py\u001b[0m in \u001b[0;36m<module>\u001b[0;34m\u001b[0m\n\u001b[1;32m      1\u001b[0m \u001b[0my\u001b[0m \u001b[0;34m=\u001b[0m \u001b[0mtw_data\u001b[0m\u001b[0;34m[\u001b[0m\u001b[0;34m'Label'\u001b[0m\u001b[0;34m]\u001b[0m\u001b[0;34m\u001b[0m\u001b[0;34m\u001b[0m\u001b[0m\n\u001b[1;32m      2\u001b[0m \u001b[0;34m\u001b[0m\u001b[0m\n\u001b[0;32m----> 3\u001b[0;31m X_train_1M, X_test_1M, y_train_1M, y_test_1M = train_test_split(M_1M,\n\u001b[0m\u001b[1;32m      4\u001b[0m                                                                 \u001b[0my\u001b[0m \u001b[0;34m,\u001b[0m\u001b[0;34m\u001b[0m\u001b[0;34m\u001b[0m\u001b[0m\n\u001b[1;32m      5\u001b[0m                                                                 \u001b[0mrandom_state\u001b[0m\u001b[0;34m=\u001b[0m\u001b[0;36m42\u001b[0m\u001b[0;34m,\u001b[0m\u001b[0;34m\u001b[0m\u001b[0;34m\u001b[0m\u001b[0m\n",
      "\u001b[0;31mNameError\u001b[0m: name 'M_1M' is not defined"
     ]
    }
   ],
   "source": [
    "\n",
    "y = tw_data['Label']\n",
    "\n",
    "X_train_1M, X_test_1M, y_train_1M, y_test_1M = train_test_split(M_1M,\n",
    "                                                                y ,\n",
    "                                                                random_state=42, \n",
    "                                                                test_size=0.15)\n",
    "\n",
    "\n",
    "X_train_tfidf, X_test_tfidf, y_train_tfidf, y_test_tfidf = train_test_split(M_tfidf, y ,\n",
    "                                                                            random_state=42, \n",
    "                                                                            test_size=0.15)\n",
    "\n",
    "X_train_not_weighted, X_test_not_weighted,\\\n",
    "y_train_not_weighted, y_test_not_weighted = train_test_split(M_not_weighted, \n",
    "                                                     y ,\n",
    "                                                     random_state=42, \n",
    "                                                     test_size=0.15)\n",
    "\n",
    "\n",
    "X_train_selected, X_test_selected,\\\n",
    "y_train_selected, y_test_selected = train_test_split(M_selected, \n",
    "                                                     y ,\n",
    "                                                     random_state=42, \n",
    "                                                     test_size=0.15)"
   ]
  },
  {
   "cell_type": "markdown",
   "metadata": {},
   "source": [
    "## Quick trials\n"
   ]
  },
  {
   "cell_type": "code",
   "execution_count": 34,
   "metadata": {},
   "outputs": [],
   "source": [
    "lr_model = linear_model.LogisticRegression(C=1., class_weight='balanced',penalty='l1')"
   ]
  },
  {
   "cell_type": "markdown",
   "metadata": {},
   "source": [
    "#### Weighted features"
   ]
  },
  {
   "cell_type": "code",
   "execution_count": 35,
   "metadata": {},
   "outputs": [
    {
     "ename": "NameError",
     "evalue": "name 'X_train_1M' is not defined",
     "output_type": "error",
     "traceback": [
      "\u001b[0;31m---------------------------------------------------------------------------\u001b[0m",
      "\u001b[0;31mNameError\u001b[0m                                 Traceback (most recent call last)",
      "\u001b[0;32m<timed exec>\u001b[0m in \u001b[0;36m<module>\u001b[0;34m\u001b[0m\n",
      "\u001b[0;31mNameError\u001b[0m: name 'X_train_1M' is not defined"
     ]
    }
   ],
   "source": [
    "%%time\n",
    "lr_model_w = lr_model\n",
    "lr_model_w.fit(X_train_1M, y_train_1M)\n",
    "y_preds_w = lr_model_w.predict(X_test_1M)\n",
    "\n",
    "print(classification_report( y_test_1M, y_preds_w ))\n",
    "cm_w = print_cm(y_test_1M, y_preds_w , ['H','N'])"
   ]
  },
  {
   "cell_type": "markdown",
   "metadata": {},
   "source": [
    "#### Non-weighted features"
   ]
  },
  {
   "cell_type": "code",
   "execution_count": 36,
   "metadata": {},
   "outputs": [
    {
     "ename": "NameError",
     "evalue": "name 'X_train_not_weighted' is not defined",
     "output_type": "error",
     "traceback": [
      "\u001b[0;31m---------------------------------------------------------------------------\u001b[0m",
      "\u001b[0;31mNameError\u001b[0m                                 Traceback (most recent call last)",
      "\u001b[0;32m<timed exec>\u001b[0m in \u001b[0;36m<module>\u001b[0;34m\u001b[0m\n",
      "\u001b[0;31mNameError\u001b[0m: name 'X_train_not_weighted' is not defined"
     ]
    }
   ],
   "source": [
    "%%time\n",
    "lr_model_uw = lr_model\n",
    "\n",
    "lr_model_uw.fit(X_train_not_weighted, y_train_not_weighted)\n",
    "y_preds_uw = lr_model_uw.predict(X_test_not_weighted)\n",
    "\n",
    "print(classification_report( y_test_not_weighted, y_preds_uw ))\n",
    "cm_uw = print_cm(y_test_not_weighted, y_preds_uw , ['H','N'])"
   ]
  },
  {
   "cell_type": "markdown",
   "metadata": {},
   "source": [
    "#### Selected weighted features"
   ]
  },
  {
   "cell_type": "code",
   "execution_count": 37,
   "metadata": {},
   "outputs": [
    {
     "ename": "NameError",
     "evalue": "name 'X_train_selected' is not defined",
     "output_type": "error",
     "traceback": [
      "\u001b[0;31m---------------------------------------------------------------------------\u001b[0m",
      "\u001b[0;31mNameError\u001b[0m                                 Traceback (most recent call last)",
      "\u001b[0;32m<timed exec>\u001b[0m in \u001b[0;36m<module>\u001b[0;34m\u001b[0m\n",
      "\u001b[0;31mNameError\u001b[0m: name 'X_train_selected' is not defined"
     ]
    }
   ],
   "source": [
    "%%time\n",
    "lr_model_sw = lr_model\n",
    "\n",
    "lr_model_sw.fit(X_train_selected, y_train_selected)\n",
    "y_preds_sw = lr_model_sw.predict(X_test_selected)\n",
    "\n",
    "print(classification_report( y_test_selected, y_preds_sw ))\n",
    "cm_sw = print_cm(y_test_selected, y_preds_sw , ['H','N'])"
   ]
  },
  {
   "cell_type": "markdown",
   "metadata": {},
   "source": [
    "#### Tf-Idf only features"
   ]
  },
  {
   "cell_type": "code",
   "execution_count": 17,
   "metadata": {},
   "outputs": [
    {
     "data": {
      "text/plain": [
       "RandomForestClassifier(bootstrap=True, class_weight=None, criterion='gini',\n",
       "            max_depth=None, max_features='auto', max_leaf_nodes=None,\n",
       "            min_impurity_decrease=0.0, min_impurity_split=None,\n",
       "            min_samples_leaf=1, min_samples_split=2,\n",
       "            min_weight_fraction_leaf=0.0, n_estimators=10, n_jobs=1,\n",
       "            oob_score=False, random_state=None, verbose=0,\n",
       "            warm_start=False)"
      ]
     },
     "execution_count": 17,
     "metadata": {},
     "output_type": "execute_result"
    },
    {
     "name": "stdout",
     "output_type": "stream",
     "text": [
      "             precision    recall  f1-score   support\n",
      "\n",
      "        0.0       0.65      0.44      0.52        73\n",
      "        1.0       0.92      0.96      0.94       473\n",
      "\n",
      "avg / total       0.88      0.89      0.88       546\n",
      "\n"
     ]
    },
    {
     "data": {
      "image/png": "[encoded data removed]",
      "text/plain": [
       "<Figure size 360x360 with 1 Axes>"
      ]
     },
     "metadata": {},
     "output_type": "display_data"
    }
   ],
   "source": [
    "rf_model= ensemble.RandomForestClassifier(criterion='gini')\n",
    "\n",
    "rf_model.fit(X_train_tfidf, y_train_tfidf)\n",
    "y_preds_rf = rf_model.predict(X_test_tfidf)\n",
    "\n",
    "print(classification_report( y_test_tfidf, y_preds_rf ))\n",
    "cm_rf = print_cm(y_test_tfidf, y_preds_rf , ['H','N'])"
   ]
  },
  {
   "cell_type": "markdown",
   "metadata": {},
   "source": [
    "#### Undersampling+Log Reg"
   ]
  },
  {
   "cell_type": "code",
   "execution_count": 18,
   "metadata": {},
   "outputs": [
    {
     "name": "stdout",
     "output_type": "stream",
     "text": [
      "Resampled dataset shape Counter({0.0: 545, 1.0: 545})\n",
      "(981,)\n",
      "(109,)\n"
     ]
    }
   ],
   "source": [
    "from imblearn.under_sampling import RandomUnderSampler\n",
    "from collections import Counter\n",
    "rus = RandomUnderSampler(return_indices=True)\n",
    "X_res, y_res, idx_res = rus.fit_sample(M_selected, y)\n",
    "print('Resampled dataset shape {}'.format(Counter(y_res)))\n",
    "\n",
    "X_res_train, X_res_test, y_res_train, y_res_test = train_test_split(X_res, \n",
    "                                                     y_res ,\n",
    "                                                     random_state=42, \n",
    "                                                     test_size=0.1)\n",
    "\n",
    "print(y_res_train.shape)\n",
    "print(y_res_test.shape)"
   ]
  },
  {
   "cell_type": "code",
   "execution_count": 19,
   "metadata": {},
   "outputs": [
    {
     "data": {
      "text/plain": [
       "LogisticRegression(C=1.0, class_weight='balanced', dual=False,\n",
       "          fit_intercept=True, intercept_scaling=1, max_iter=100,\n",
       "          multi_class='ovr', n_jobs=1, penalty='l1', random_state=None,\n",
       "          solver='liblinear', tol=0.0001, verbose=0, warm_start=False)"
      ]
     },
     "execution_count": 19,
     "metadata": {},
     "output_type": "execute_result"
    },
    {
     "name": "stdout",
     "output_type": "stream",
     "text": [
      "             precision    recall  f1-score   support\n",
      "\n",
      "        0.0       0.73      0.79      0.76        56\n",
      "        1.0       0.76      0.70      0.73        53\n",
      "\n",
      "avg / total       0.74      0.74      0.74       109\n",
      "\n"
     ]
    },
    {
     "data": {
      "image/png": "[encoded data removed]",
      "text/plain": [
       "<Figure size 360x360 with 1 Axes>"
      ]
     },
     "metadata": {},
     "output_type": "display_data"
    }
   ],
   "source": [
    "%%time\n",
    "lr_model_us = lr_model\n",
    "\n",
    "lr_model_us.fit(X_res_train, y_res_train)\n",
    "y_preds_us = lr_model_us.predict(X_res_test)\n",
    "\n",
    "print(classification_report( y_res_test, y_preds_us ))\n",
    "cm_us = print_cm(y_res_test, y_preds_us , ['H','N'])"
   ]
  },
  {
   "cell_type": "markdown",
   "metadata": {},
   "source": [
    "#### Result:\n",
    "Weighted features seem to do better. So, the higher evaluation time is worth. \n",
    "Also, w2v with tf-idf weights does significantly better than Tf-Idf alone.\n",
    "On the other hand, it is not completely clear if using selected features gives better performance.\n",
    "In the following, we will optimize using w2v features with tf-idf weights, and compare features obtained from selected and full sample"
   ]
  },
  {
   "cell_type": "markdown",
   "metadata": {},
   "source": [
    "### Grid parameter search\n",
    "####  As a metric, we maximise recall for class \"H\" (it is better to predict an \"H\" which is actually an \"N\" than the contrary). The function custom_recall does this and will be used as evaluation metric to choose the best model "
   ]
  },
  {
   "cell_type": "code",
   "execution_count": null,
   "metadata": {
    "collapsed": true
   },
   "outputs": [],
   "source": [
    "def custom_recall(y_true, y_pred): \n",
    "    ''' Computes recall only on labels 0 '''\n",
    "    rec = recall_score(y_true, y_pred, labels=[0], pos_label=0, average='binary')\n",
    "    return rec #target_accuracy\n",
    "\n",
    "my_scorer = make_scorer(custom_recall)\n",
    "\n",
    "\n",
    "\n",
    "def my_pipeline(my_clf, x_train, x_test , y_train, y_test, scorer, parameters):\n",
    "\n",
    "    pipeline = Pipeline([('clf', my_clf)])\n",
    "\n",
    "    nn = x_train.shape[0]\n",
    "\n",
    "    grid_search = GridSearchCV(pipeline, parameters, n_jobs=-1,verbose=1, scoring=scorer)\n",
    "    grid_search.fit(x_train, y_train)\n",
    "    print ('Best score: %0.3f' % grid_search.best_score_)\n",
    "    print ('Best parameters set:')\n",
    "    best_parameters = grid_search.best_estimator_.get_params()\n",
    "    for param_name in sorted(parameters.keys()):\n",
    "        print ('\\t%s: %r' % (param_name, best_parameters[param_name]))\n",
    "\n",
    "    predictions = grid_search.predict(x_test)\n",
    "    print (classification_report(y_test, predictions))\n",
    "    \n",
    "    return grid_search"
   ]
  },
  {
   "cell_type": "markdown",
   "metadata": {},
   "source": [
    "#### Logistic Regression - weighted features from full dataset"
   ]
  },
  {
   "cell_type": "code",
   "execution_count": null,
   "metadata": {
    "collapsed": true
   },
   "outputs": [],
   "source": [
    "lr_init = linear_model.LogisticRegression(C=1., class_weight='balanced',penalty='l1')"
   ]
  },
  {
   "cell_type": "code",
   "execution_count": null,
   "metadata": {
    "collapsed": true
   },
   "outputs": [],
   "source": [
    "%%time\n",
    "parameters_lr = {\n",
    "        #'clf__penalty': ('l1', 'l2'),\n",
    "        'clf__C': np.linspace(1, 10, 2),\n",
    "    }\n",
    "\n",
    "\n",
    "\n",
    "class_LR_w = my_pipeline(lr_init, \n",
    "                       X_train_1M, X_test_1M, y_train_1M, y_test_1M,\n",
    "                       my_scorer , parameters_lr)"
   ]
  },
  {
   "cell_type": "code",
   "execution_count": null,
   "metadata": {
    "collapsed": true
   },
   "outputs": [],
   "source": [
    "cm_w = print_cm(y_test_1M, class_LR_w.predict(X_test_1M) , ['H','N'])"
   ]
  },
  {
   "cell_type": "markdown",
   "metadata": {},
   "source": [
    "#### Logistic Regression - weighted features from selected dataset"
   ]
  },
  {
   "cell_type": "code",
   "execution_count": null,
   "metadata": {
    "collapsed": true
   },
   "outputs": [],
   "source": [
    "%%time\n",
    "parameters_lr = {\n",
    "        #'clf__penalty': ('l1', 'l2'),\n",
    "        'clf__C': np.linspace(1, 10, 2),\n",
    "    }\n",
    "\n",
    "\n",
    "\n",
    "class_LR_selected = my_pipeline(lr_init, \n",
    "                       X_train_selected, X_test_selected, y_train_selected, y_test_selected,\n",
    "                       my_scorer , parameters_lr)\n",
    "\n",
    "print_cm(y_test_selected, class_LR_selected.predict(X_test_selected) , ['H','N'])"
   ]
  },
  {
   "cell_type": "code",
   "execution_count": null,
   "metadata": {
    "collapsed": true
   },
   "outputs": [],
   "source": [
    "cm_selected = print_cm(y_test_selected, class_LR_w.predict(X_test_selected) , ['H','N'])"
   ]
  },
  {
   "cell_type": "markdown",
   "metadata": {},
   "source": [
    "#### Logistic Regression - unweighted features from full dataset"
   ]
  },
  {
   "cell_type": "code",
   "execution_count": null,
   "metadata": {
    "collapsed": true
   },
   "outputs": [],
   "source": [
    "%%time\n",
    "parameters_lr = {\n",
    "        'clf__penalty': ('l1', 'l2'),\n",
    "        'clf__C': np.linspace(1, 10, 2),\n",
    "    }\n",
    "\n",
    "\n",
    "\n",
    "class_LR_uw = my_pipeline(linear_model.LogisticRegression(C=1., \n",
    "                                                       class_weight='balanced'\n",
    "                                                       ), \n",
    "                       X_train_not_weighted, X_test_not_weighted,\n",
    "                          y_train_not_weighted, y_test_not_weighted,\n",
    "                       my_scorer , parameters_lr)\n",
    "\n",
    "print_cm(y_test_not_weighted, class_LR_uw.predict(X_test_not_weighted) , ['H','N'])"
   ]
  },
  {
   "cell_type": "code",
   "execution_count": null,
   "metadata": {
    "collapsed": true
   },
   "outputs": [],
   "source": [
    "cm_uw = print_cm(y_test_not_weighted, class_LR_uw.predict(X_test_not_weighted) , ['H','N'])"
   ]
  },
  {
   "cell_type": "markdown",
   "metadata": {},
   "source": [
    "#### Random Forest + TFIDF features"
   ]
  },
  {
   "cell_type": "code",
   "execution_count": null,
   "metadata": {
    "collapsed": true
   },
   "outputs": [],
   "source": [
    "parameters_rf = {\n",
    "        'clf__criterion': ('gini', 'entropy'),\n",
    "        'clf__max_depth': (None, 10, 100),\n",
    "        'clf__min_samples_leaf':(1,5,10)\n",
    "    }\n",
    "\n",
    "class_RF = my_pipeline(ensemble.RandomForestClassifier(n_jobs=-1, random_state=321),\n",
    "                       X_train_tfidf, X_test_tfidf, y_train_tfidf, y_test_tfidf,\n",
    "                       my_scorer, parameters_rf )"
   ]
  },
  {
   "cell_type": "code",
   "execution_count": null,
   "metadata": {
    "collapsed": true
   },
   "outputs": [],
   "source": [
    "cm_RF = print_cm(y_test_tfidf, class_RF.predict(X_test_tfidf) , ['H','N'])"
   ]
  },
  {
   "cell_type": "markdown",
   "metadata": {},
   "source": [
    "#### Undersampling + Logistic Regression"
   ]
  },
  {
   "cell_type": "code",
   "execution_count": null,
   "metadata": {
    "collapsed": true
   },
   "outputs": [],
   "source": [
    "%%time\n",
    "parameters_lr = {\n",
    "       'clf__penalty': ('l1', 'l2'),\n",
    "        'clf__C': np.linspace(1, 10, 2),\n",
    "    }\n",
    "\n",
    "\n",
    "\n",
    "class_LR_us = my_pipeline(linear_model.LogisticRegression(C=1.), \n",
    "                       X_res_train, X_res_test, y_res_train, y_res_test,\n",
    "                       my_scorer , parameters_lr)"
   ]
  },
  {
   "cell_type": "code",
   "execution_count": null,
   "metadata": {
    "collapsed": true
   },
   "outputs": [],
   "source": [
    "print_cm(y_res_test, class_LR_us.predict(X_res_test) , ['H','N'])"
   ]
  },
  {
   "cell_type": "markdown",
   "metadata": {},
   "source": [
    "##### Very promising but results can fluctuate a lot depending on the sampling. Must add k-fold cross validation !!"
   ]
  },
  {
   "cell_type": "markdown",
   "metadata": {},
   "source": [
    "## Other trials (no luck)"
   ]
  },
  {
   "cell_type": "markdown",
   "metadata": {},
   "source": [
    "#### SVM"
   ]
  },
  {
   "cell_type": "code",
   "execution_count": null,
   "metadata": {
    "collapsed": true
   },
   "outputs": [],
   "source": [
    "svm_model= svm.SVC(C=1, kernel='rbf', gamma=0.1)\n",
    "\n",
    "svm_model.fit(X_train_1M, y_train_1M)\n",
    "y_preds = svm_model.predict(X_test_1M)\n",
    "\n",
    "print(classification_report( y_test_1M, y_preds ))\n",
    "print_cm(y_test_1M, y_preds , ['H','N'])"
   ]
  },
  {
   "cell_type": "markdown",
   "metadata": {},
   "source": [
    "#### Random Forest"
   ]
  },
  {
   "cell_type": "code",
   "execution_count": null,
   "metadata": {
    "collapsed": true
   },
   "outputs": [],
   "source": [
    "rf_model= ensemble.RandomForestClassifier(criterion='entropy', n_estimators=10)\n",
    "\n",
    "rf_model.fit(X_train_1M, y_train_1M)\n",
    "y_preds = rf_model.predict(X_test_1M)\n",
    "\n",
    "print(classification_report( y_test_1M, y_preds ))\n",
    "print_cm(y_test_1M, y_preds , ['H','N'])"
   ]
  },
  {
   "cell_type": "code",
   "execution_count": null,
   "metadata": {
    "collapsed": true
   },
   "outputs": [],
   "source": [
    "\n",
    "parameters_svm = {\n",
    "        'clf__gamma': (0.0001, 0.001, 0.01),\n",
    "        'clf__C': (100, 150, 500),\n",
    "        #'clf__kernel':('rbf', 'linear','sigmoid' )\n",
    "    }\n",
    "\n",
    "class_SVM = my_pipeline(svm.SVC(C=100, kernel='rbf'),\n",
    "                        X_train_1M, X_test_1M, y_train_1M, y_test_1M,\n",
    "                       my_scorer , parameters_svm)"
   ]
  },
  {
   "cell_type": "code",
   "execution_count": null,
   "metadata": {
    "collapsed": true
   },
   "outputs": [],
   "source": [
    "print_cm(y_test_1M, class_SVM.predict(X_test_1M) , ['H','N'])"
   ]
  },
  {
   "cell_type": "markdown",
   "metadata": {},
   "source": [
    "#### KNN"
   ]
  },
  {
   "cell_type": "code",
   "execution_count": null,
   "metadata": {
    "collapsed": true
   },
   "outputs": [],
   "source": [
    "from sklearn import neighbors\n",
    "\n",
    "knn = neighbors.KNeighborsClassifier(n_neighbors=5, metric='chebyshev')\n",
    "\n",
    "knn.fit(X_train_1M, y_train_1M)\n",
    "y_pred_1M = knn.predict(X_test_1M)\n",
    "\n",
    "print_cm(y_test_1M, y_pred_1M , ['H','N'])"
   ]
  },
  {
   "cell_type": "code",
   "execution_count": null,
   "metadata": {
    "collapsed": true
   },
   "outputs": [],
   "source": [
    "from sklearn import neighbors\n",
    "\n",
    "knn = neighbors.KNeighborsClassifier(n_neighbors=10, metric='minkowski')\n",
    "\n",
    "knn.fit(X_res_train, y_res_train)\n",
    "y_pred_us = knn.predict(X_res_test)\n",
    "\n",
    "print_cm(y_res_test, y_pred_us , ['H','N'])"
   ]
  },
  {
   "cell_type": "markdown",
   "metadata": {},
   "source": [
    "## Best model"
   ]
  },
  {
   "cell_type": "markdown",
   "metadata": {},
   "source": [
    "Our conclusion: the best model is Logistic REgression with l1 reg. and C=1 .\n",
    "It seem to work (slightly) better with  w2v trained on the full sample rather than on the selected sample (why? Because the selected sample it's trained with less data? ). However, the difference is tiny and more investigation seems important (e.g trying cross-validation).\n",
    "\n",
    "\n",
    "If we use a Tf-Idf vectorizer, we get that the best classifier is a Random Forest with gini criterion. This does considerably worse that w2v+log reg if we consider the False positive rate (predicted =N but true=H ), and better if we consider the false negative (predicted=H but true=N). \n",
    "Since it's better to minimize false positive rate, we conclude that w2v works better.  \n",
    "\n",
    "Finally, using undersampling techniques seems to improve the performace, in particular on the false positive rate, even if the size of the dataset is highly reduced. Given the small amount of data available, however, this risks to worsen the classifier's performance when applied to previously unseen data, and also the performance can fluctuate considerably when changing subsampling. However, this result is interesting to keep in mind if one has a larger dataset.\n",
    "\n",
    "#### In general, to better comment performance we need to cross-validate ! Otherwise the results fluctuate too much (this is natural given the nature of the dataset)"
   ]
  },
  {
   "cell_type": "code",
   "execution_count": null,
   "metadata": {
    "collapsed": true
   },
   "outputs": [],
   "source": [
    "SAVED_MODEL = models_dir+\"saved_lr_1M.pkl\"\n",
    "with open(SAVED_MODEL, \"wb\") as f:\n",
    "    pickle.dump(class_LR, f)\n",
    "\n",
    "SAVED_MODEL = models_dir+\"saved_lr_selected.pkl\"\n",
    "with open(SAVED_MODEL, \"wb\") as f:\n",
    "    pickle.dump(class_LR_selected, f)\n"
   ]
  },
  {
   "cell_type": "markdown",
   "metadata": {
    "deletable": false,
    "editable": false,
    "run_control": {
     "frozen": true
    }
   },
   "source": [
    "\n",
    "<img src=\"https://datascientest.fr/train/assets/logo_datascientest.png\", style=\"height:150px\">\n",
    "\n",
    "<hr style=\"border-width:2px;border-color:#75DFC1\">\n",
    "<h1 style = \"text-align:center\" > Practice Python </h1> \n",
    "<hr style=\"border-width:2px;border-color:#75DFC1\">\n",
    "\n",
    "\n",
    "* pour ajouter une cellule utiliser esc + a\n",
    "* pour supprimer une cellule utiliser esc + x (faire attention)\n"
   ]
  }
 ],
 "metadata": {
  "kernelspec": {
   "display_name": "Python 3 (ipykernel)",
   "language": "python",
   "name": "python3"
  },
  "language_info": {
   "codemirror_mode": {
    "name": "ipython",
    "version": 3
   },
   "file_extension": ".py",
   "mimetype": "text/x-python",
   "name": "python",
   "nbconvert_exporter": "python",
   "pygments_lexer": "ipython3",
   "version": "3.9.7"
  },
  "latex_envs": {
   "LaTeX_envs_menu_present": true,
   "autoclose": false,
   "autocomplete": true,
   "bibliofile": "biblio.bib",
   "cite_by": "apalike",
   "current_citInitial": 1,
   "eqLabelWithNumbers": true,
   "eqNumInitial": 1,
   "hotkeys": {
    "equation": "Ctrl-E",
    "itemize": "Ctrl-I"
   },
   "labels_anchors": false,
   "latex_user_defs": false,
   "report_style_numbering": false,
   "user_envs_cfg": false
  }
 },
 "nbformat": 4,
 "nbformat_minor": 2
}
